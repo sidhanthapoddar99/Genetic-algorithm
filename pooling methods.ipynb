{
 "cells": [
  {
   "cell_type": "code",
   "execution_count": 41,
   "metadata": {
    "ExecuteTime": {
     "end_time": "2019-10-31T14:39:56.980456Z",
     "start_time": "2019-10-31T14:39:56.976466Z"
    }
   },
   "outputs": [],
   "source": [
    "from numpy.random import rand\n",
    "import numpy as np\n",
    "import math"
   ]
  },
  {
   "cell_type": "markdown",
   "metadata": {
    "ExecuteTime": {
     "end_time": "2019-10-31T14:02:12.453463Z",
     "start_time": "2019-10-31T14:02:12.448476Z"
    }
   },
   "source": [
    "in this experiment we are assuming that fitness value of dna is in a linear fation and is in incrasing order"
   ]
  },
  {
   "cell_type": "code",
   "execution_count": 3,
   "metadata": {
    "ExecuteTime": {
     "end_time": "2019-10-31T14:02:19.728946Z",
     "start_time": "2019-10-31T14:02:19.724963Z"
    }
   },
   "outputs": [],
   "source": [
    "#normal random gererator function for selection\n",
    "def randv(m):\n",
    "    val=int(rand(1)[0]*m)\n",
    "    return val\n",
    "    "
   ]
  },
  {
   "cell_type": "code",
   "execution_count": 16,
   "metadata": {
    "ExecuteTime": {
     "end_time": "2019-10-31T14:17:53.625819Z",
     "start_time": "2019-10-31T14:17:53.622827Z"
    }
   },
   "outputs": [],
   "source": [
    "m=10000"
   ]
  },
  {
   "cell_type": "code",
   "execution_count": 17,
   "metadata": {
    "ExecuteTime": {
     "end_time": "2019-10-31T14:18:00.200073Z",
     "start_time": "2019-10-31T14:18:00.066882Z"
    }
   },
   "outputs": [
    {
     "name": "stdout",
     "output_type": "stream",
     "text": [
      "Wall time: 129 ms\n"
     ]
    }
   ],
   "source": [
    "%%time\n",
    "#selection without cosidering the probobility of better fitness\n",
    "arr=[0 for i in range(m+1)]\n",
    "for i in range(100000):\n",
    "    arr[randv(m)]+=1"
   ]
  },
  {
   "cell_type": "code",
   "execution_count": 18,
   "metadata": {
    "ExecuteTime": {
     "end_time": "2019-10-31T14:18:40.145368Z",
     "start_time": "2019-10-31T14:18:33.728047Z"
    }
   },
   "outputs": [
    {
     "name": "stdout",
     "output_type": "stream",
     "text": [
      "length of selection arr:  49995000\n",
      "Wall time: 6.33 s\n"
     ]
    }
   ],
   "source": [
    "%%time\n",
    "#selection cosidering the probobility of better fitness traditional method\n",
    "#problem exponetial space complexity and \n",
    "#timecoplexity becomes O(n^2) from O(n)\n",
    "selarr=[]\n",
    "for i in range(m):\n",
    "    for j in range(i):\n",
    "        selarr+=[i]\n",
    "val=len(selarr)\n",
    "print(\"length of selection arr: \",val)\n",
    "arr2=[0 for i in range(m+1)]\n",
    "for i in range(100000):\n",
    "    arr2[selarr[randv(val)]]+=1\n",
    "\n",
    "    "
   ]
  },
  {
   "cell_type": "code",
   "execution_count": 26,
   "metadata": {
    "ExecuteTime": {
     "end_time": "2019-10-31T14:23:13.392077Z",
     "start_time": "2019-10-31T14:23:12.911351Z"
    }
   },
   "outputs": [
    {
     "name": "stdout",
     "output_type": "stream",
     "text": [
      "Wall time: 478 ms\n"
     ]
    }
   ],
   "source": [
    "%%time\n",
    "#selection cosidering the probobility of better fitness\n",
    "#mote carlo method of crossover rejection samaling\n",
    "arr3=[0 for i in range(m+1)]\n",
    "i=0\n",
    "while i<100000:\n",
    "    v1=randv(m)\n",
    "    v2=randv(m)\n",
    "    if(v1>=v2):\n",
    "        arr3[v1]+=1\n",
    "        i+=1"
   ]
  },
  {
   "cell_type": "code",
   "execution_count": null,
   "metadata": {},
   "outputs": [],
   "source": []
  },
  {
   "cell_type": "code",
   "execution_count": 30,
   "metadata": {
    "ExecuteTime": {
     "end_time": "2019-10-31T14:25:42.284078Z",
     "start_time": "2019-10-31T14:25:41.473051Z"
    }
   },
   "outputs": [
    {
     "name": "stdout",
     "output_type": "stream",
     "text": [
      "length of selection arr:  4950\n"
     ]
    }
   ],
   "source": [
    "m=100\n",
    "\n",
    "arr=[0 for i in range(m+1)]\n",
    "for i in range(100000):\n",
    "    arr[randv(m)]+=1\n",
    "###########################################\n",
    "\n",
    "selarr=[]\n",
    "for i in range(m):\n",
    "    for j in range(i):\n",
    "        selarr+=[i]\n",
    "val=len(selarr)\n",
    "print(\"length of selection arr: \",val)\n",
    "arr2=[0 for i in range(m+1)]\n",
    "for i in range(100000):\n",
    "    arr2[selarr[randv(val)]]+=1\n",
    "    \n",
    "##############################################    \n",
    "arr3=[0 for i in range(m+1)]\n",
    "i=0\n",
    "while i<100000:\n",
    "    v1=randv(m)\n",
    "    v2=randv(m)\n",
    "    if(v1>=v2):\n",
    "        arr3[v1]+=1\n",
    "        i+=1\n",
    "        "
   ]
  },
  {
   "cell_type": "code",
   "execution_count": 34,
   "metadata": {
    "ExecuteTime": {
     "end_time": "2019-10-31T14:28:49.651923Z",
     "start_time": "2019-10-31T14:28:47.884745Z"
    }
   },
   "outputs": [],
   "source": [
    "import matplotlib.pyplot as plt"
   ]
  },
  {
   "cell_type": "code",
   "execution_count": 40,
   "metadata": {
    "ExecuteTime": {
     "end_time": "2019-10-31T14:35:04.704911Z",
     "start_time": "2019-10-31T14:35:04.616152Z"
    }
   },
   "outputs": [
    {
     "data": {
      "image/png": "[encoded data removed]",
      "text/plain": [
       "<Figure size 432x288 with 1 Axes>"
      ]
     },
     "metadata": {
      "needs_background": "light"
     },
     "output_type": "display_data"
    }
   ],
   "source": [
    "#probability distribution\n",
    "plt.plot([i for i in range(100)],arr[:100],'r')\n",
    "plt.plot([i for i in range(100)],arr2[:100],'b')\n",
    "plt.plot([i for i in range(100)],arr3[:100],'g')\n",
    "plt.xlabel('population')\n",
    "plt.show()"
   ]
  },
  {
   "cell_type": "code",
   "execution_count": null,
   "metadata": {},
   "outputs": [],
   "source": []
  },
  {
   "cell_type": "code",
   "execution_count": 43,
   "metadata": {
    "ExecuteTime": {
     "end_time": "2019-10-31T14:41:37.320858Z",
     "start_time": "2019-10-31T14:41:37.240045Z"
    }
   },
   "outputs": [
    {
     "data": {
      "image/png": "[encoded data removed]",
      "text/plain": [
       "<Figure size 432x288 with 1 Axes>"
      ]
     },
     "metadata": {
      "needs_background": "light"
     },
     "output_type": "display_data"
    }
   ],
   "source": [
    "#time complexity\n",
    "#probability that a would be greater than B is 1/4 aprox if a, b are randomly selected\n",
    "#time complexity of the 2nd case would be the factorial of the codition\n",
    "plt.plot([i for i in range(100)],[i for i in range(100)],'r')\n",
    "plt.plot([i for i in range(100)],[math.factorial(i) for i in range(100)],'b')\n",
    "plt.plot([i for i in range(100)],[i*4 for i in range(100)],'g')\n",
    "plt.xlabel('population')\n",
    "plt.show()"
   ]
  },
  {
   "cell_type": "code",
   "execution_count": 44,
   "metadata": {
    "ExecuteTime": {
     "end_time": "2019-10-31T14:41:56.661886Z",
     "start_time": "2019-10-31T14:41:56.575305Z"
    }
   },
   "outputs": [
    {
     "data": {
      "image/png": "[encoded data removed]",
      "text/plain": [
       "<Figure size 432x288 with 1 Axes>"
      ]
     },
     "metadata": {
      "needs_background": "light"
     },
     "output_type": "display_data"
    }
   ],
   "source": [
    "#time complexity\n",
    "#probability that a would be greater than B is 1/4 aprox if a, b are randomly selected\n",
    "#time complexity of the 2nd case would be the factorial of the codition\n",
    "plt.plot([i for i in range(10)],[i for i in range(10)],'r')\n",
    "plt.plot([i for i in range(10)],[math.factorial(i) for i in range(10)],'b')\n",
    "plt.plot([i for i in range(10)],[i*4 for i in range(10)],'g')\n",
    "plt.xlabel('population')\n",
    "plt.show()"
   ]
  },
  {
   "cell_type": "code",
   "execution_count": 46,
   "metadata": {
    "ExecuteTime": {
     "end_time": "2019-10-31T14:44:10.053263Z",
     "start_time": "2019-10-31T14:44:09.964952Z"
    }
   },
   "outputs": [
    {
     "data": {
      "image/png": "[encoded data removed]",
      "text/plain": [
       "<Figure size 432x288 with 1 Axes>"
      ]
     },
     "metadata": {
      "needs_background": "light"
     },
     "output_type": "display_data"
    }
   ],
   "source": [
    "#time complexity\n",
    "#probability that a would be greater than B is 1/4 aprox if a, b are randomly selected\n",
    "#time complexity of the 2nd case would be the factorial of the codition\n",
    "plt.plot([i for i in range(7)],[i for i in range(7)],'r')\n",
    "plt.plot([i for i in range(7)],[math.factorial(i) for i in range(7)],'b')\n",
    "plt.plot([i for i in range(7)],[i*4 for i in range(7)],'g')\n",
    "plt.xlabel('population')\n",
    "plt.show()"
   ]
  },
  {
   "cell_type": "code",
   "execution_count": 45,
   "metadata": {
    "ExecuteTime": {
     "end_time": "2019-10-31T14:42:33.513451Z",
     "start_time": "2019-10-31T14:42:33.421690Z"
    },
    "code_folding": [
     0
    ]
   },
   "outputs": [
    {
     "data": {
      "image/png": "[encoded data removed]",
      "text/plain": [
       "<Figure size 432x288 with 1 Axes>"
      ]
     },
     "metadata": {
      "needs_background": "light"
     },
     "output_type": "display_data"
    }
   ],
   "source": [
    "#time complexity\n",
    "#probability that a would be greater than B is 1/4 aprox if a, b are randomly selected\n",
    "#time complexity of the 2nd case would be the factorial of the codition\n",
    "plt.plot([i for i in range(5)],[i for i in range(5)],'r')\n",
    "plt.plot([i for i in range(5)],[math.factorial(i) for i in range(5)],'b')\n",
    "plt.plot([i for i in range(5)],[i*4 for i in range(5)],'g')\n",
    "plt.xlabel('population')\n",
    "plt.show()"
   ]
  },
  {
   "cell_type": "code",
   "execution_count": null,
   "metadata": {},
   "outputs": [],
   "source": []
  }
 ],
 "metadata": {
  "kernelspec": {
   "display_name": "Python 3",
   "language": "python",
   "name": "python3"
  },
  "language_info": {
   "codemirror_mode": {
    "name": "ipython",
    "version": 3
   },
   "file_extension": ".py",
   "mimetype": "text/x-python",
   "name": "python",
   "nbconvert_exporter": "python",
   "pygments_lexer": "ipython3",
   "version": "3.7.4"
  },
  "toc": {
   "base_numbering": 1,
   "nav_menu": {},
   "number_sections": true,
   "sideBar": true,
   "skip_h1_title": false,
   "title_cell": "Table of Contents",
   "title_sidebar": "Contents",
   "toc_cell": false,
   "toc_position": {},
   "toc_section_display": true,
   "toc_window_display": false
  },
  "varInspector": {
   "cols": {
    "lenName": 16,
    "lenType": 16,
    "lenVar": 40
   },
   "kernels_config": {
    "python": {
     "delete_cmd_postfix": "",
     "delete_cmd_prefix": "del ",
     "library": "var_list.py",
     "varRefreshCmd": "print(var_dic_list())"
    },
    "r": {
     "delete_cmd_postfix": ") ",
     "delete_cmd_prefix": "rm(",
     "library": "var_list.r",
     "varRefreshCmd": "cat(var_dic_list()) "
    }
   },
   "types_to_exclude": [
    "module",
    "function",
    "builtin_function_or_method",
    "instance",
    "_Feature"
   ],
   "window_display": false
  }
 },
 "nbformat": 4,
 "nbformat_minor": 2
}
