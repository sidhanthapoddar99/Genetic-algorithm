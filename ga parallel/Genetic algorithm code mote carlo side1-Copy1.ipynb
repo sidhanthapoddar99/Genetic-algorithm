{
 "cells": [
  {
   "cell_type": "code",
   "execution_count": null,
   "metadata": {
    "ExecuteTime": {
     "end_time": "2019-11-01T15:01:02.498739Z",
     "start_time": "2019-11-01T15:01:02.495282Z"
    }
   },
   "outputs": [],
   "source": [
    "from numpy.random import rand\n",
    "import numpy as np\n",
    "from IPython.display import clear_output\n",
    "from IPython.display import Markdown, display\n",
    "import socket, pickle"
   ]
  },
  {
   "cell_type": "markdown",
   "metadata": {},
   "source": [
    "\n",
    "1.for inheritance in python \n",
    " class subclass(superclass name)\n",
    "2.accessing class methonds through objects then need to add self as a method parameter\n",
    "just only for methods that needed to be accessed through outside / by objects\n",
    "\n",
    "\n"
   ]
  },
  {
   "cell_type": "code",
   "execution_count": null,
   "metadata": {
    "ExecuteTime": {
     "end_time": "2019-11-01T15:01:02.971640Z",
     "start_time": "2019-11-01T15:01:02.968615Z"
    },
    "code_folding": []
   },
   "outputs": [],
   "source": [
    "ele_list=\"ABCDEFGHIJKLMNOPQRSTUVWXYZ  \"\n",
    "target=\"ALPHA CODE X LOAD TEST MAGIC K\"\n",
    "tlen=len(target)\n",
    "tlen\n",
    "min_fitness_val=4\n",
    "#print(dnac(25))"
   ]
  },
  {
   "cell_type": "code",
   "execution_count": null,
   "metadata": {},
   "outputs": [],
   "source": []
  },
  {
   "cell_type": "code",
   "execution_count": null,
   "metadata": {
    "ExecuteTime": {
     "end_time": "2019-11-01T15:01:03.512557Z",
     "start_time": "2019-11-01T15:01:03.505981Z"
    },
    "code_folding": [
     0
    ]
   },
   "outputs": [],
   "source": [
    "class gene_func:\n",
    "\n",
    "    def to_char(self, x):\n",
    "        return ele_list[x]\n",
    "\n",
    "    def dnac(self):\n",
    "        return ''.join(list(map(self.to_char, list(map(int, rand(tlen)*27)))))\n",
    "\n",
    "class gene(gene_func):\n",
    "\n",
    "    #fitness calculation function\n",
    "    def fitness_cal(self):\n",
    "        f = 0\n",
    "        for i in range(tlen):\n",
    "            if (target[i] == self.dna[i]):\n",
    "                f =f + 1\n",
    "            \n",
    "        return f\n",
    "    \n",
    "    \n",
    "    #randomly initialize a DNA\n",
    "    \"\"\"def __init__(self):\n",
    "        self.dna = self.dnac()\n",
    "        self.fit = self.fitness_cal()\n",
    "    \"\"\"\n",
    "    \n",
    "    \n",
    "    #manulaly create a DNA \n",
    "    def __init__(self,st=None):\n",
    "        if st==None:    \n",
    "            self.dna = self.dnac()\n",
    "        else:    \n",
    "            self.dna = st\n",
    "        self.fit = self.fitness_cal()\n",
    "        \n",
    "        \n",
    "    #DNA mutation\n",
    "    def mutation(self):\n",
    "        pass\n",
    "    \n",
    "    #function for crossover\n",
    "    def cross_over(self):\n",
    "        pass"
   ]
  },
  {
   "cell_type": "code",
   "execution_count": null,
   "metadata": {
    "ExecuteTime": {
     "end_time": "2019-11-01T15:01:03.711296Z",
     "start_time": "2019-11-01T15:01:03.706318Z"
    },
    "code_folding": []
   },
   "outputs": [],
   "source": [
    "\"\"\"def sendc(obj,HOST=\"192.168.43.121\",PORT=5002):\n",
    "    s = socket.socket(socket.AF_INET, socket.SOCK_STREAM)\n",
    "    s.connect((HOST, PORT))  \n",
    "    variable = [obj for i in range(10000)]\n",
    "    #variable = [ProcessData() for i in range(10000)]\n",
    "    # Pickle the object and send it to the server\n",
    "    data_string = pickle.dumps(variable)\n",
    "    s.send(data_string) \n",
    "def recc(HOST=\"192.168.43.121\",PORT=5002):\n",
    "    s = socket.socket(socket.AF_INET, socket.SOCK_STREAM)\n",
    "    s.connect((HOST, PORT))\n",
    "    data = s.recv(100000)\n",
    "    data_variable = pickle.loads(data)\n",
    "    return(data_variable)\"\"\"\n",
    "def sendc(msg,HOST=\"192.168.43.21\",PORT=5004 ):\n",
    "    s = socket.socket(socket.AF_INET, socket.SOCK_STREAM)\n",
    "    s.connect((HOST, PORT))  \n",
    "    s.send(msg.encode('utf-8'))\n",
    "def recc(HOST=\"192.168.43.21\",PORT=5005):\n",
    "    s = socket.socket(socket.AF_INET, socket.SOCK_STREAM)\n",
    "    s.connect((HOST, PORT))\n",
    "    msg = s.recv(2048).decode(\"utf-8\")\n",
    "    #print(msg)\n",
    "    return(msg)"
   ]
  },
  {
   "cell_type": "code",
   "execution_count": null,
   "metadata": {
    "ExecuteTime": {
     "end_time": "2019-11-01T15:01:04.435479Z",
     "start_time": "2019-11-01T15:01:04.418524Z"
    },
    "code_folding": [
     67
    ]
   },
   "outputs": [],
   "source": [
    "class Population:\n",
    "    arr=[]\n",
    "    #minimum required fitness\n",
    "    min_fit=min_fitness_val\n",
    "    #max fitnss return\n",
    "    def cross_connect(self):\n",
    "        amt=int(len(self.arr)/2)\n",
    "        i=0\n",
    "        while i<amt:\n",
    "            try:\n",
    "                g=self.arr[i]\n",
    "                sendc(g.dna)\n",
    "                self.arr[i]=gene(recc())\n",
    "                i+=1\n",
    "            except:\n",
    "                print(\"error in sockets\")\n",
    "            \n",
    "    \"\"\"def cross_connect1(self):\n",
    "        print(\"phase1\")\n",
    "        data_to_send=self.arr[:int(len(self.arr)/2)]\n",
    "        print(\"phase2\")\n",
    "        data_to_contain=self.arr[int(len(self.arr)/2):]\n",
    "        print(\"phase3\")\n",
    "        sendc(data_to_send)\n",
    "        print(\"phase4\")\n",
    "        data_to_add=recc()\n",
    "        print(\"phase5\")\n",
    "        self.arr=data_to_add+data_to_contain\n",
    "        print(\"phase6\")\n",
    "        \n",
    "    def cross_connect(self):     \n",
    "        no_of_parts=int((len(self.arr)/1000)/2)\n",
    "        #data_to_send=[]\n",
    "        #data_to_add=[]\n",
    "        #data_to_contain=self.arr[int(no_of_parts*1000):]\n",
    "        for i in range(0,no_of_parts):\n",
    "            sendc(self.arr[i*1000:(i+1)*1000])\n",
    "            self.arr=self.arr+recc()\n",
    "        self.arr=self.arr[int(no_of_parts*1000):]\"\"\"    \n",
    "    \n",
    "    def max_fitness(self):\n",
    "        maxx=0\n",
    "        for i in self.arr:\n",
    "            if i.fit>maxx:\n",
    "                maxx=i.fit\n",
    "        return maxx\n",
    "    #create a new population\n",
    "    def create_population(self,pop_size):\n",
    "        self.arr=[]\n",
    "        i=0\n",
    "        while i<pop_size:\n",
    "            v=gene()\n",
    "            if v.fit>=self.min_fit:\n",
    "                self.arr+=[v]*v.fit\n",
    "                i+=1\n",
    "                print(v.dna,\"   ---   \",v.fit)\n",
    "                \n",
    "     #create a new population with vizialization\n",
    "    def create_population2(self,pop_size):\n",
    "        self.arr=[]\n",
    "        i=0\n",
    "        while i<pop_size:\n",
    "            v=gene()\n",
    "            if v.fit>=self.min_fit:\n",
    "                self.arr+=[v]*v.fit\n",
    "                i+=1\n",
    "                clear_output()\n",
    "                display(Markdown(\"\".join([str(v.dna),\"   ---   \",str(v.fit)])))\n",
    "                #print(v.dna,\"   ---   \",v.fit)           \n",
    "                \n",
    "    \n",
    "    #crossover\n",
    "    def cross_over(self,arr):\n",
    "        \n",
    "        size=len(arr)\n",
    "        a,b=list(map(int, rand(2)*(size)))\n",
    "        val=int(rand(1)*(tlen-1))\n",
    "        return(arr[a].dna[:val]+arr[b].dna[val:])\n",
    "        #crossover\n",
    "    \n",
    "    def get_gene(self,pop,old_max):\n",
    "        size=len(pop.arr)\n",
    "        min_fitness=int(rand(1)[0]*old_max)\n",
    "        for i in range(1000):\n",
    "            selected_gene=int(rand(1)[0]*size)\n",
    "            #check if the dna quality matches the required mark or the max no of attempts have passed\n",
    "            if pop.arr[selected_gene].fit>=min_fitness or i>200:\n",
    "                if i>200:\n",
    "                    print(\"dna quality not found\")\n",
    "                return pop.arr[selected_gene].dna\n",
    "            \n",
    "    \n",
    "    def cross_over_monte(self,old_pop,old_max):\n",
    "        dna1=self.get_gene(old_pop,old_max)\n",
    "        dna2=self.get_gene(old_pop,old_max)\n",
    "        val=int(rand(1)*(tlen-1))\n",
    "        return([dna1[:val]+dna2[val:],dna2[:val]+dna1[val:]])\n",
    "    \n",
    "    #create a population from crossover             \n",
    "    def cross_pop(self,pop_size,old_pop):\n",
    "        max_old=old_pop.max_fitness()+1\n",
    "        #arr=old_pop.arr\n",
    "        self.arr=[]\n",
    "        i=0\n",
    "        while i<pop_size:\n",
    "            vx=self.cross_over_monte(old_pop,max_old)\n",
    "            v=gene(vx[0])\n",
    "            #checking if we get the target\n",
    "            if v.fit==tlen:\n",
    "                print(\"FOUND\")\n",
    "                print(v.dna,\"   ---   \",v.fit)   \n",
    "                return 1\n",
    "            \n",
    "            if v.fit>=self.min_fit:\n",
    "                self.arr+=[v]\n",
    "                i+=1\n",
    "                print(v.dna,\"   ---   \",v.fit)\n",
    "            \n",
    "            v=gene(vx[1])\n",
    "            if v.fit==tlen:\n",
    "                print(\"FOUND\")\n",
    "                print(v.dna,\"   ---   \",v.fit)   \n",
    "                return 1\n",
    "            if v.fit>=self.min_fit:\n",
    "                self.arr+=[v]\n",
    "                i+=1\n",
    "                print(v.dna,\"   ---   \",v.fit)       \n",
    "        return 0\n",
    "    #mote carlo method of crossover rejection samaling"
   ]
  },
  {
   "cell_type": "code",
   "execution_count": null,
   "metadata": {},
   "outputs": [],
   "source": []
  },
  {
   "cell_type": "code",
   "execution_count": null,
   "metadata": {},
   "outputs": [],
   "source": []
  },
  {
   "cell_type": "code",
   "execution_count": null,
   "metadata": {},
   "outputs": [],
   "source": []
  },
  {
   "cell_type": "code",
   "execution_count": null,
   "metadata": {},
   "outputs": [],
   "source": []
  },
  {
   "cell_type": "code",
   "execution_count": null,
   "metadata": {
    "ExecuteTime": {
     "end_time": "2019-11-01T00:05:16.750161Z",
     "start_time": "2019-11-01T00:05:16.707275Z"
    }
   },
   "outputs": [],
   "source": []
  },
  {
   "cell_type": "code",
   "execution_count": null,
   "metadata": {
    "ExecuteTime": {
     "end_time": "2019-11-01T15:01:06.797091Z",
     "start_time": "2019-11-01T15:01:06.794065Z"
    }
   },
   "outputs": [],
   "source": [
    "psize=1500"
   ]
  },
  {
   "cell_type": "code",
   "execution_count": null,
   "metadata": {
    "ExecuteTime": {
     "end_time": "2019-11-01T15:01:08.931800Z",
     "start_time": "2019-11-01T15:01:07.419809Z"
    }
   },
   "outputs": [],
   "source": [
    "#parr=Population()\n",
    "#parr.create_population(300)\n",
    "\n",
    "pop=[Population() for i in range(150)]\n",
    "pop[0].create_population(psize)"
   ]
  },
  {
   "cell_type": "code",
   "execution_count": null,
   "metadata": {
    "ExecuteTime": {
     "start_time": "2019-11-01T15:01:08.126Z"
    },
    "scrolled": true
   },
   "outputs": [],
   "source": [
    "for i in range(1,100):\n",
    "    #pop[i].min_fit=4\n",
    "    print(\"\\n\\n\\n\\nPopulation <---------> \",i,\"\\n\\n\\n\\n\")\n",
    "    flag=pop[i].cross_pop(psize,pop[i-1])\n",
    "    #pop[i].cross_connect()\n",
    "    if flag==1:\n",
    "        print(\"\\n\\n\\n\\nPopulation <---------> \",i,\"\\n\\n\\n\\n\")\n",
    "        break\n",
    "    pop[i].cross_connect()    "
   ]
  },
  {
   "cell_type": "code",
   "execution_count": null,
   "metadata": {
    "ExecuteTime": {
     "end_time": "2019-11-01T02:57:33.287938Z",
     "start_time": "2019-11-01T02:56:32.157Z"
    }
   },
   "outputs": [],
   "source": [
    "del(pop)\n",
    "import gc\n",
    "gc.collect()"
   ]
  },
  {
   "cell_type": "code",
   "execution_count": null,
   "metadata": {
    "ExecuteTime": {
     "end_time": "2019-11-01T02:57:33.287938Z",
     "start_time": "2019-11-01T02:56:32.158Z"
    }
   },
   "outputs": [],
   "source": [
    "arr=[1,2]"
   ]
  },
  {
   "cell_type": "code",
   "execution_count": null,
   "metadata": {
    "ExecuteTime": {
     "end_time": "2019-11-01T02:57:33.288935Z",
     "start_time": "2019-11-01T02:56:32.159Z"
    }
   },
   "outputs": [],
   "source": [
    "arr+=[3]"
   ]
  },
  {
   "cell_type": "code",
   "execution_count": null,
   "metadata": {
    "ExecuteTime": {
     "end_time": "2019-11-01T02:57:33.288935Z",
     "start_time": "2019-11-01T02:56:32.161Z"
    }
   },
   "outputs": [],
   "source": [
    "arr"
   ]
  },
  {
   "cell_type": "code",
   "execution_count": null,
   "metadata": {},
   "outputs": [],
   "source": []
  }
 ],
 "metadata": {
  "kernelspec": {
   "display_name": "Python 3",
   "language": "python",
   "name": "python3"
  },
  "language_info": {
   "codemirror_mode": {
    "name": "ipython",
    "version": 3
   },
   "file_extension": ".py",
   "mimetype": "text/x-python",
   "name": "python",
   "nbconvert_exporter": "python",
   "pygments_lexer": "ipython3",
   "version": "3.7.3"
  },
  "toc": {
   "base_numbering": 1,
   "nav_menu": {},
   "number_sections": true,
   "sideBar": true,
   "skip_h1_title": false,
   "title_cell": "Table of Contents",
   "title_sidebar": "Contents",
   "toc_cell": false,
   "toc_position": {
    "height": "calc(100% - 180px)",
    "left": "10px",
    "top": "150px",
    "width": "341.458px"
   },
   "toc_section_display": true,
   "toc_window_display": false
  },
  "varInspector": {
   "cols": {
    "lenName": 16,
    "lenType": 16,
    "lenVar": 40
   },
   "kernels_config": {
    "python": {
     "delete_cmd_postfix": "",
     "delete_cmd_prefix": "del ",
     "library": "var_list.py",
     "varRefreshCmd": "print(var_dic_list())"
    },
    "r": {
     "delete_cmd_postfix": ") ",
     "delete_cmd_prefix": "rm(",
     "library": "var_list.r",
     "varRefreshCmd": "cat(var_dic_list()) "
    }
   },
   "types_to_exclude": [
    "module",
    "function",
    "builtin_function_or_method",
    "instance",
    "_Feature"
   ],
   "window_display": false
  }
 },
 "nbformat": 4,
 "nbformat_minor": 2
}
