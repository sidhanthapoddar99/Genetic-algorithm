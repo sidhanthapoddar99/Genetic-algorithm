{
 "cells": [
  {
   "cell_type": "code",
   "execution_count": 1,
   "metadata": {
    "ExecuteTime": {
     "end_time": "2019-10-31T20:14:44.453007Z",
     "start_time": "2019-10-31T20:14:44.449018Z"
    }
   },
   "outputs": [],
   "source": [
    "import socket, pickle"
   ]
  },
  {
   "cell_type": "code",
   "execution_count": 2,
   "metadata": {
    "ExecuteTime": {
     "end_time": "2019-10-31T20:14:58.417124Z",
     "start_time": "2019-10-31T20:14:58.413136Z"
    }
   },
   "outputs": [],
   "source": [
    "class ProcessData:\n",
    "    process_id = 0\n",
    "    project_id = 0\n",
    "    task_id = 0\n",
    "    start_time = 0\n",
    "    end_time = 0\n",
    "    user_id = 0\n",
    "    weekend_id = 0\n"
   ]
  },
  {
   "cell_type": "markdown",
   "metadata": {},
   "source": [
    "# Server side"
   ]
  },
  {
   "cell_type": "code",
   "execution_count": 4,
   "metadata": {
    "ExecuteTime": {
     "end_time": "2019-10-31T21:12:22.814171Z",
     "start_time": "2019-10-31T21:12:22.810182Z"
    }
   },
   "outputs": [],
   "source": [
    "HOST = '127.0.0.1'\n",
    "PORT = 5008\n",
    "s = socket.socket(socket.AF_INET, socket.SOCK_STREAM)\n",
    "s.bind((HOST, PORT))\n",
    "s.listen(1)"
   ]
  },
  {
   "cell_type": "markdown",
   "metadata": {},
   "source": [
    "## Server side coding for sending and reciving data as text or string"
   ]
  },
  {
   "cell_type": "code",
   "execution_count": null,
   "metadata": {},
   "outputs": [],
   "source": [
    "#here is s is the socket variable\n",
    "def sends(s):\n",
    "    c, addr = s.accept()      \n",
    "    print ('Got connection from', addr)\n",
    "    msg=\"this is a msg\"\n",
    "    c.send(msg.encode('utf-8')) \n",
    "    c.close()\n",
    "    s.listen(1)\n",
    "def recs(s):\n",
    "    c, addr = s.accept()\n",
    "    print ('Connected by', addr)\n",
    "    msg = c.recv(4096).decode(\"utf-8\")\n",
    "    print(msg)\n",
    "    s.listen(1)\n",
    "    c.close()"
   ]
  },
  {
   "cell_type": "markdown",
   "metadata": {},
   "source": [
    "## Server side coding for sending and reciving data as object"
   ]
  },
  {
   "cell_type": "code",
   "execution_count": null,
   "metadata": {},
   "outputs": [],
   "source": [
    "def sends(s):\n",
    "    s.listen(1)\n",
    "    c, addr = s.accept()      \n",
    "    print ('Got connection from', addr)\n",
    "    variable = [ProcessData() for i in range(10000)]\n",
    "    # Pickle the object and send it to the server\n",
    "    data_string = pickle.dumps(variable)\n",
    "    c.send(data_string) \n",
    "    c.close() \n",
    "def recs(s):\n",
    "    s.listen(1)\n",
    "    c, addr = s.accept()\n",
    "    print ('Connected by', addr)\n",
    "    data = c.recv(4096)\n",
    "    data_variable = pickle.loads(data)\n",
    "    c.close()"
   ]
  },
  {
   "cell_type": "code",
   "execution_count": null,
   "metadata": {},
   "outputs": [],
   "source": [
    "s.close"
   ]
  },
  {
   "cell_type": "markdown",
   "metadata": {},
   "source": [
    "# Client side"
   ]
  },
  {
   "cell_type": "markdown",
   "metadata": {},
   "source": [
    "## Client side coding for sending and reciving data as text or string"
   ]
  },
  {
   "cell_type": "code",
   "execution_count": null,
   "metadata": {},
   "outputs": [],
   "source": [
    "def sendc(HOST,PORT,msg=\"this is a msg\" ):\n",
    "    s = socket.socket(socket.AF_INET, socket.SOCK_STREAM)\n",
    "    s.connect((HOST, PORT))  \n",
    "    s.send(msg.encode('utf-8'))\n",
    "def recc(HOST,PORT):\n",
    "    s = socket.socket(socket.AF_INET, socket.SOCK_STREAM)\n",
    "    s.connect((HOST, PORT))\n",
    "    msg = s.recv(4096).decode(\"utf-8\")\n",
    "    print(msg)\n",
    "    return(msg)"
   ]
  },
  {
   "cell_type": "markdown",
   "metadata": {},
   "source": [
    "## Client side coding for sending and reciving data as object"
   ]
  },
  {
   "cell_type": "code",
   "execution_count": null,
   "metadata": {},
   "outputs": [],
   "source": [
    "def sendc(HOST,PORT,obj=ProcessData()):\n",
    "    s = socket.socket(socket.AF_INET, socket.SOCK_STREAM)\n",
    "    s.connect((HOST, PORT))  \n",
    "    variable = [obj for i in range(10000)]\n",
    "    #variable = [ProcessData() for i in range(10000)]\n",
    "    # Pickle the object and send it to the server\n",
    "    data_string = pickle.dumps(variable)\n",
    "    s.send(data_string) \n",
    "def recc(HOST,PORT):\n",
    "    s = socket.socket(socket.AF_INET, socket.SOCK_STREAM)\n",
    "    s.connect((HOST, PORT))\n",
    "    data = s.recv(4096)\n",
    "    data_variable = pickle.loads(data)\n",
    "    return(data_variable)"
   ]
  }
 ],
 "metadata": {
  "kernelspec": {
   "display_name": "Python 3",
   "language": "python",
   "name": "python3"
  },
  "language_info": {
   "codemirror_mode": {
    "name": "ipython",
    "version": 3
   },
   "file_extension": ".py",
   "mimetype": "text/x-python",
   "name": "python",
   "nbconvert_exporter": "python",
   "pygments_lexer": "ipython3",
   "version": "3.7.3"
  },
  "toc": {
   "base_numbering": 1,
   "nav_menu": {},
   "number_sections": true,
   "sideBar": true,
   "skip_h1_title": false,
   "title_cell": "Table of Contents",
   "title_sidebar": "Contents",
   "toc_cell": false,
   "toc_position": {},
   "toc_section_display": true,
   "toc_window_display": false
  },
  "varInspector": {
   "cols": {
    "lenName": 16,
    "lenType": 16,
    "lenVar": 40
   },
   "kernels_config": {
    "python": {
     "delete_cmd_postfix": "",
     "delete_cmd_prefix": "del ",
     "library": "var_list.py",
     "varRefreshCmd": "print(var_dic_list())"
    },
    "r": {
     "delete_cmd_postfix": ") ",
     "delete_cmd_prefix": "rm(",
     "library": "var_list.r",
     "varRefreshCmd": "cat(var_dic_list()) "
    }
   },
   "types_to_exclude": [
    "module",
    "function",
    "builtin_function_or_method",
    "instance",
    "_Feature"
   ],
   "window_display": false
  }
 },
 "nbformat": 4,
 "nbformat_minor": 2
}
