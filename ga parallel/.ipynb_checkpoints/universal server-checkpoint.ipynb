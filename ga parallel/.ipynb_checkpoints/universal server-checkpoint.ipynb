{
 "cells": [
  {
   "cell_type": "code",
   "execution_count": null,
   "metadata": {
    "ExecuteTime": {
     "end_time": "2019-10-31T22:40:45.478684Z",
     "start_time": "2019-10-31T22:40:45.475691Z"
    }
   },
   "outputs": [],
   "source": [
    "import socket, pickle"
   ]
  },
  {
   "cell_type": "code",
   "execution_count": null,
   "metadata": {
    "ExecuteTime": {
     "end_time": "2019-10-31T22:41:30.947136Z",
     "start_time": "2019-10-31T22:41:30.942150Z"
    }
   },
   "outputs": [],
   "source": [
    "HOST = '127.0.0.1'\n",
    "PORT1 = 5008\n",
    "s1 = socket.socket(socket.AF_INET, socket.SOCK_STREAM)\n",
    "s1.bind((HOST, PORT1))"
   ]
  },
  {
   "cell_type": "code",
   "execution_count": null,
   "metadata": {
    "ExecuteTime": {
     "end_time": "2019-10-31T22:41:32.006951Z",
     "start_time": "2019-10-31T22:41:32.002960Z"
    }
   },
   "outputs": [],
   "source": [
    "HOST = '127.0.0.1'\n",
    "PORT2 = 5007\n",
    "s2 = socket.socket(socket.AF_INET, socket.SOCK_STREAM)\n",
    "s2.bind((HOST, PORT2))"
   ]
  },
  {
   "cell_type": "code",
   "execution_count": null,
   "metadata": {
    "ExecuteTime": {
     "end_time": "2019-10-31T23:03:09.330099Z",
     "start_time": "2019-10-31T23:03:09.324060Z"
    }
   },
   "outputs": [],
   "source": [
    "def sends(s,msg=\"this is a msg\"):\n",
    "    s.listen(5)\n",
    "    c, addr = s.accept()      \n",
    "    print ('Got connection from', addr)\n",
    "    c.send(msg.encode('utf-8')) \n",
    "    c.close() \n",
    "def recs(s):\n",
    "    s.listen(5)\n",
    "    c, addr = s.accept()\n",
    "    print ('Connected by', addr)\n",
    "    msg = c.recv(4096).decode(\"utf-8\")\n",
    "    print(msg)\n",
    "    c.close()\n",
    "    return(msg)\n",
    "    "
   ]
  },
  {
   "cell_type": "code",
   "execution_count": null,
   "metadata": {
    "ExecuteTime": {
     "end_time": "2019-10-31T23:03:52.241862Z",
     "start_time": "2019-10-31T23:03:49.940013Z"
    }
   },
   "outputs": [],
   "source": [
    "msgc1=recs(s1)\n",
    "msgc2=recs(s2)\n",
    "sends(s1,msgc2)\n",
    "sends(s2,msgc1)"
   ]
  },
  {
   "cell_type": "code",
   "execution_count": null,
   "metadata": {
    "ExecuteTime": {
     "end_time": "2019-10-31T23:03:28.484185Z",
     "start_time": "2019-10-31T23:03:25.901049Z"
    }
   },
   "outputs": [],
   "source": []
  },
  {
   "cell_type": "code",
   "execution_count": null,
   "metadata": {},
   "outputs": [],
   "source": []
  },
  {
   "cell_type": "code",
   "execution_count": null,
   "metadata": {
    "ExecuteTime": {
     "end_time": "2019-10-31T22:17:34.196129Z",
     "start_time": "2019-10-31T22:17:34.192141Z"
    }
   },
   "outputs": [],
   "source": [
    "s1.close()\n",
    "s2.close()"
   ]
  },
  {
   "cell_type": "code",
   "execution_count": null,
   "metadata": {},
   "outputs": [],
   "source": []
  }
 ],
 "metadata": {
  "kernelspec": {
   "display_name": "Python 3",
   "language": "python",
   "name": "python3"
  },
  "language_info": {
   "codemirror_mode": {
    "name": "ipython",
    "version": 3
   },
   "file_extension": ".py",
   "mimetype": "text/x-python",
   "name": "python",
   "nbconvert_exporter": "python",
   "pygments_lexer": "ipython3",
   "version": "3.7.3"
  },
  "toc": {
   "base_numbering": 1,
   "nav_menu": {},
   "number_sections": true,
   "sideBar": true,
   "skip_h1_title": false,
   "title_cell": "Table of Contents",
   "title_sidebar": "Contents",
   "toc_cell": false,
   "toc_position": {},
   "toc_section_display": true,
   "toc_window_display": false
  },
  "varInspector": {
   "cols": {
    "lenName": 16,
    "lenType": 16,
    "lenVar": 40
   },
   "kernels_config": {
    "python": {
     "delete_cmd_postfix": "",
     "delete_cmd_prefix": "del ",
     "library": "var_list.py",
     "varRefreshCmd": "print(var_dic_list())"
    },
    "r": {
     "delete_cmd_postfix": ") ",
     "delete_cmd_prefix": "rm(",
     "library": "var_list.r",
     "varRefreshCmd": "cat(var_dic_list()) "
    }
   },
   "types_to_exclude": [
    "module",
    "function",
    "builtin_function_or_method",
    "instance",
    "_Feature"
   ],
   "window_display": false
  }
 },
 "nbformat": 4,
 "nbformat_minor": 2
}
