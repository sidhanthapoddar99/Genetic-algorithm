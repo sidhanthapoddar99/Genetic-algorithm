{
 "cells": [
  {
   "cell_type": "code",
   "execution_count": 1,
   "metadata": {
    "ExecuteTime": {
     "end_time": "2019-10-31T22:37:17.247028Z",
     "start_time": "2019-10-31T22:37:17.243038Z"
    }
   },
   "outputs": [],
   "source": [
    "import socket, pickle"
   ]
  },
  {
   "cell_type": "code",
   "execution_count": 2,
   "metadata": {
    "ExecuteTime": {
     "end_time": "2019-10-31T22:37:17.533262Z",
     "start_time": "2019-10-31T22:37:17.529273Z"
    }
   },
   "outputs": [],
   "source": [
    "HOST = '127.0.0.1'\n",
    "PORT1 = 5008\n",
    "s1 = socket.socket(socket.AF_INET, socket.SOCK_STREAM)\n",
    "s1.connect((HOST, PORT1))  "
   ]
  },
  {
   "cell_type": "code",
   "execution_count": 3,
   "metadata": {
    "ExecuteTime": {
     "end_time": "2019-10-31T22:37:18.005009Z",
     "start_time": "2019-10-31T22:37:18.001013Z"
    }
   },
   "outputs": [],
   "source": [
    "HOST = '127.0.0.1'\n",
    "PORT2 = 5007\n",
    "s2 = socket.socket(socket.AF_INET, socket.SOCK_STREAM)\n",
    "s2.connect((HOST, PORT2))  "
   ]
  },
  {
   "cell_type": "code",
   "execution_count": 4,
   "metadata": {
    "ExecuteTime": {
     "end_time": "2019-10-31T22:37:19.444263Z",
     "start_time": "2019-10-31T22:37:19.439276Z"
    }
   },
   "outputs": [],
   "source": [
    "def sendc(s,msg=\"this is a msg\" ):\n",
    "    msg=\"this is a msg\" \n",
    "    s.send(msg.encode('utf-8'))\n",
    "def recc(s):\n",
    "    msg = s.recv(4096).decode(\"utf-8\")\n",
    "    print(msg)\n",
    "    return(msg)"
   ]
  },
  {
   "cell_type": "code",
   "execution_count": null,
   "metadata": {
    "ExecuteTime": {
     "end_time": "2019-10-31T22:21:56.830490Z",
     "start_time": "2019-10-31T22:20:56.640640Z"
    }
   },
   "outputs": [],
   "source": [
    "recc(s1)"
   ]
  },
  {
   "cell_type": "code",
   "execution_count": 5,
   "metadata": {
    "ExecuteTime": {
     "end_time": "2019-10-31T22:37:23.611341Z",
     "start_time": "2019-10-31T22:37:23.608318Z"
    }
   },
   "outputs": [],
   "source": [
    "sendc(s1,\"message from side1\")\n",
    "sendc(s2,\"message from side2\")"
   ]
  },
  {
   "cell_type": "code",
   "execution_count": 6,
   "metadata": {
    "ExecuteTime": {
     "end_time": "2019-10-31T22:37:23.858650Z",
     "start_time": "2019-10-31T22:37:23.854658Z"
    }
   },
   "outputs": [
    {
     "name": "stdout",
     "output_type": "stream",
     "text": [
      "\n",
      "\n"
     ]
    }
   ],
   "source": [
    "msgc1=recc(s1)\n",
    "msgc2=recc(s2)\n"
   ]
  },
  {
   "cell_type": "code",
   "execution_count": null,
   "metadata": {
    "ExecuteTime": {
     "end_time": "2019-10-31T22:32:39.367656Z",
     "start_time": "2019-10-31T22:32:39.363628Z"
    }
   },
   "outputs": [],
   "source": [
    "s1.close()\n",
    "s2.close()"
   ]
  },
  {
   "cell_type": "code",
   "execution_count": 7,
   "metadata": {
    "ExecuteTime": {
     "end_time": "2019-10-31T22:37:27.288483Z",
     "start_time": "2019-10-31T22:37:27.281501Z"
    }
   },
   "outputs": [
    {
     "data": {
      "text/plain": [
       "''"
      ]
     },
     "execution_count": 7,
     "metadata": {},
     "output_type": "execute_result"
    }
   ],
   "source": [
    "msgc2"
   ]
  },
  {
   "cell_type": "code",
   "execution_count": null,
   "metadata": {},
   "outputs": [],
   "source": []
  }
 ],
 "metadata": {
  "kernelspec": {
   "display_name": "Python 3",
   "language": "python",
   "name": "python3"
  },
  "language_info": {
   "codemirror_mode": {
    "name": "ipython",
    "version": 3
   },
   "file_extension": ".py",
   "mimetype": "text/x-python",
   "name": "python",
   "nbconvert_exporter": "python",
   "pygments_lexer": "ipython3",
   "version": "3.7.3"
  },
  "toc": {
   "base_numbering": 1,
   "nav_menu": {},
   "number_sections": true,
   "sideBar": true,
   "skip_h1_title": false,
   "title_cell": "Table of Contents",
   "title_sidebar": "Contents",
   "toc_cell": false,
   "toc_position": {},
   "toc_section_display": true,
   "toc_window_display": false
  },
  "varInspector": {
   "cols": {
    "lenName": 16,
    "lenType": 16,
    "lenVar": 40
   },
   "kernels_config": {
    "python": {
     "delete_cmd_postfix": "",
     "delete_cmd_prefix": "del ",
     "library": "var_list.py",
     "varRefreshCmd": "print(var_dic_list())"
    },
    "r": {
     "delete_cmd_postfix": ") ",
     "delete_cmd_prefix": "rm(",
     "library": "var_list.r",
     "varRefreshCmd": "cat(var_dic_list()) "
    }
   },
   "types_to_exclude": [
    "module",
    "function",
    "builtin_function_or_method",
    "instance",
    "_Feature"
   ],
   "window_display": false
  }
 },
 "nbformat": 4,
 "nbformat_minor": 2
}
