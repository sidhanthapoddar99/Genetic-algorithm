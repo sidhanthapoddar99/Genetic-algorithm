{
 "cells": [
  {
   "cell_type": "code",
   "execution_count": null,
   "metadata": {
    "ExecuteTime": {
     "end_time": "2019-10-31T17:50:09.995828Z",
     "start_time": "2019-10-31T17:50:09.992836Z"
    }
   },
   "outputs": [],
   "source": [
    "from numpy.random import rand\n",
    "import numpy as np\n",
    "from IPython.display import clear_output\n",
    "from IPython.display import Markdown, display\n"
   ]
  },
  {
   "cell_type": "markdown",
   "metadata": {},
   "source": [
    "\n",
    "1.for inheritance in python \n",
    " class subclass(superclass name)\n",
    "2.accessing class methonds through objects then need to add self as a method parameter\n",
    "just only for methods that needed to be accessed through outside / by objects\n",
    "\n",
    "\n"
   ]
  },
  {
   "cell_type": "code",
   "execution_count": null,
   "metadata": {
    "ExecuteTime": {
     "end_time": "2019-10-31T17:50:11.188674Z",
     "start_time": "2019-10-31T17:50:11.185648Z"
    },
    "code_folding": []
   },
   "outputs": [],
   "source": [
    "ele_list=\"ABCDEFGHIJKLMNOPQRSTUVWXYZ  \"\n",
    "target=\"ALPHA CODE X LOAD TEST MAGIC K\"\n",
    "tlen=len(target)\n",
    "tlen\n",
    "min_fitness_val=4\n",
    "#print(dnac(25))"
   ]
  },
  {
   "cell_type": "code",
   "execution_count": null,
   "metadata": {},
   "outputs": [],
   "source": []
  },
  {
   "cell_type": "code",
   "execution_count": null,
   "metadata": {
    "ExecuteTime": {
     "end_time": "2019-10-31T17:50:11.393093Z",
     "start_time": "2019-10-31T17:50:11.386112Z"
    },
    "code_folding": [
     0,
     8
    ]
   },
   "outputs": [],
   "source": [
    "class gene_func:\n",
    "\n",
    "    def to_char(self, x):\n",
    "        return ele_list[x]\n",
    "\n",
    "    def dnac(self):\n",
    "        return ''.join(list(map(self.to_char, list(map(int, rand(tlen)*27)))))\n",
    "\n",
    "class gene(gene_func):\n",
    "\n",
    "    #fitness calculation function\n",
    "    def fitness_cal(self):\n",
    "        f = 0\n",
    "        for i in range(tlen):\n",
    "            if (target[i] == self.dna[i]):\n",
    "                f =f + 1\n",
    "            \n",
    "        return f\n",
    "    \n",
    "    \n",
    "    #randomly initialize a DNA\n",
    "    \"\"\"def __init__(self):\n",
    "        self.dna = self.dnac()\n",
    "        self.fit = self.fitness_cal()\n",
    "    \"\"\"\n",
    "    \n",
    "    \n",
    "    #manulaly create a DNA \n",
    "    def __init__(self,st=None):\n",
    "        if st==None:    \n",
    "            self.dna = self.dnac()\n",
    "        else:    \n",
    "            self.dna = st\n",
    "        self.fit = self.fitness_cal()\n",
    "        \n",
    "        \n",
    "    #DNA mutation\n",
    "    def mutation(self):\n",
    "        pass\n",
    "    \n",
    "    #function for crossover\n",
    "    def cross_over(self):\n",
    "        pass"
   ]
  },
  {
   "cell_type": "code",
   "execution_count": 2,
   "metadata": {
    "ExecuteTime": {
     "end_time": "2019-10-31T23:33:21.383908Z",
     "start_time": "2019-10-31T23:33:21.378940Z"
    },
    "code_folding": [
     8
    ]
   },
   "outputs": [],
   "source": [
    "def sendc(obj,HOST=\"127.0.0.1\",PORT=5001):\n",
    "    s = socket.socket(socket.AF_INET, socket.SOCK_STREAM)\n",
    "    s.connect((HOST, PORT))  \n",
    "    variable = [obj for i in range(10000)]\n",
    "    #variable = [ProcessData() for i in range(10000)]\n",
    "    # Pickle the object and send it to the server\n",
    "    data_string = pickle.dumps(variable)\n",
    "    s.send(data_string) \n",
    "def recc(HOST=\"127.0.0.1\",PORT=5001):\n",
    "    s = socket.socket(socket.AF_INET, socket.SOCK_STREAM)\n",
    "    s.connect((HOST, PORT))\n",
    "    data = s.recv(4096)\n",
    "    data_variable = pickle.loads(data)\n",
    "    return(data_variable)"
   ]
  },
  {
   "cell_type": "code",
   "execution_count": 3,
   "metadata": {
    "ExecuteTime": {
     "end_time": "2019-10-31T23:45:53.027343Z",
     "start_time": "2019-10-31T23:45:52.966507Z"
    },
    "code_folding": [
     5,
     12,
     23,
     37,
     45,
     57,
     64
    ]
   },
   "outputs": [
    {
     "ename": "NameError",
     "evalue": "name 'min_fitness_val' is not defined",
     "output_type": "error",
     "traceback": [
      "\u001b[1;31m---------------------------------------------------------------------------\u001b[0m",
      "\u001b[1;31mNameError\u001b[0m                                 Traceback (most recent call last)",
      "\u001b[1;32m<ipython-input-3-dd47130d535c>\u001b[0m in \u001b[0;36m<module>\u001b[1;34m\u001b[0m\n\u001b[1;32m----> 1\u001b[1;33m \u001b[1;32mclass\u001b[0m \u001b[0mPopulation\u001b[0m\u001b[1;33m:\u001b[0m\u001b[1;33m\u001b[0m\u001b[1;33m\u001b[0m\u001b[0m\n\u001b[0m\u001b[0;32m      2\u001b[0m     \u001b[0marr\u001b[0m\u001b[1;33m=\u001b[0m\u001b[1;33m[\u001b[0m\u001b[1;33m]\u001b[0m\u001b[1;33m\u001b[0m\u001b[1;33m\u001b[0m\u001b[0m\n\u001b[0;32m      3\u001b[0m     \u001b[1;31m#minimum required fitness\u001b[0m\u001b[1;33m\u001b[0m\u001b[1;33m\u001b[0m\u001b[1;33m\u001b[0m\u001b[0m\n\u001b[0;32m      4\u001b[0m     \u001b[0mmin_fit\u001b[0m\u001b[1;33m=\u001b[0m\u001b[0mmin_fitness_val\u001b[0m\u001b[1;33m\u001b[0m\u001b[1;33m\u001b[0m\u001b[0m\n\u001b[0;32m      5\u001b[0m     \u001b[1;31m#max fitnss return\u001b[0m\u001b[1;33m\u001b[0m\u001b[1;33m\u001b[0m\u001b[1;33m\u001b[0m\u001b[0m\n",
      "\u001b[1;32m<ipython-input-3-dd47130d535c>\u001b[0m in \u001b[0;36mPopulation\u001b[1;34m()\u001b[0m\n\u001b[0;32m      2\u001b[0m     \u001b[0marr\u001b[0m\u001b[1;33m=\u001b[0m\u001b[1;33m[\u001b[0m\u001b[1;33m]\u001b[0m\u001b[1;33m\u001b[0m\u001b[1;33m\u001b[0m\u001b[0m\n\u001b[0;32m      3\u001b[0m     \u001b[1;31m#minimum required fitness\u001b[0m\u001b[1;33m\u001b[0m\u001b[1;33m\u001b[0m\u001b[1;33m\u001b[0m\u001b[0m\n\u001b[1;32m----> 4\u001b[1;33m     \u001b[0mmin_fit\u001b[0m\u001b[1;33m=\u001b[0m\u001b[0mmin_fitness_val\u001b[0m\u001b[1;33m\u001b[0m\u001b[1;33m\u001b[0m\u001b[0m\n\u001b[0m\u001b[0;32m      5\u001b[0m     \u001b[1;31m#max fitnss return\u001b[0m\u001b[1;33m\u001b[0m\u001b[1;33m\u001b[0m\u001b[1;33m\u001b[0m\u001b[0m\n\u001b[0;32m      6\u001b[0m     \u001b[1;32mdef\u001b[0m \u001b[0mcross_connect\u001b[0m\u001b[1;33m(\u001b[0m\u001b[0mself\u001b[0m\u001b[1;33m)\u001b[0m\u001b[1;33m:\u001b[0m\u001b[1;33m\u001b[0m\u001b[1;33m\u001b[0m\u001b[0m\n",
      "\u001b[1;31mNameError\u001b[0m: name 'min_fitness_val' is not defined"
     ]
    }
   ],
   "source": [
    "class Population:\n",
    "    arr=[]\n",
    "    #minimum required fitness\n",
    "    min_fit=min_fitness_val\n",
    "    #max fitnss return\n",
    "    def cross_connect(self):\n",
    "        data_to_send=self.arr[:len(self.arr/2)]\n",
    "        data_to_contain=self.arr[len(self.arr/2):]\n",
    "        sendc(data_to_send)\n",
    "        data_to_add=recc()\n",
    "        \n",
    "        \n",
    "    \n",
    "    def max_fitness(self):\n",
    "        maxx=0\n",
    "        for i in self.arr:\n",
    "            if i.fit>maxx:\n",
    "                maxx=i.fit\n",
    "        return maxx\n",
    "    #create a new population\n",
    "    def create_population(self,pop_size):\n",
    "        self.arr=[]\n",
    "        i=0\n",
    "        while i<pop_size:\n",
    "            v=gene()\n",
    "            if v.fit>=self.min_fit:\n",
    "                self.arr+=[v]*v.fit\n",
    "                i+=1\n",
    "                print(v.dna,\"   ---   \",v.fit)\n",
    "                \n",
    "     #create a new population with vizialization\n",
    "    def create_population2(self,pop_size):\n",
    "        self.arr=[]\n",
    "        i=0\n",
    "        while i<pop_size:\n",
    "            v=gene()\n",
    "            if v.fit>=self.min_fit:\n",
    "                self.arr+=[v]*v.fit\n",
    "                i+=1\n",
    "                clear_output()\n",
    "                display(Markdown(\"\".join([str(v.dna),\"   ---   \",str(v.fit)])))\n",
    "                #print(v.dna,\"   ---   \",v.fit)           \n",
    "                \n",
    "    \n",
    "    #crossover\n",
    "    def cross_over(self,arr):\n",
    "        \n",
    "        size=len(arr)\n",
    "        a,b=list(map(int, rand(2)*(size)))\n",
    "        val=int(rand(1)*(tlen-1))\n",
    "        return(arr[a].dna[:val]+arr[b].dna[val:])\n",
    "        #crossover\n",
    "    \n",
    "    def get_gene(self,pop,old_max):\n",
    "        size=len(pop.arr)\n",
    "        min_fitness=int(rand(1)[0]*old_max)\n",
    "        for i in range(1000):\n",
    "            selected_gene=int(rand(1)[0]*size)\n",
    "            #check if the dna quality matches the required mark or the max no of attempts have passed\n",
    "            if pop.arr[selected_gene].fit>=min_fitness or i>200:\n",
    "                if i>200:\n",
    "                    print(\"dna quality not found\")\n",
    "                return pop.arr[selected_gene].dna\n",
    "            \n",
    "    \n",
    "    def cross_over_monte(self,old_pop,old_max):\n",
    "        dna1=self.get_gene(old_pop,old_max)\n",
    "        dna2=self.get_gene(old_pop,old_max)\n",
    "        val=int(rand(1)*(tlen-1))\n",
    "        return([dna1[:val]+dna2[val:],dna2[:val]+dna1[val:]])\n",
    "    \n",
    "    #create a population from crossover             \n",
    "    def cross_pop(self,pop_size,old_pop):\n",
    "        max_old=old_pop.max_fitness()+1\n",
    "        #arr=old_pop.arr\n",
    "        self.arr=[]\n",
    "        i=0\n",
    "        while i<pop_size:\n",
    "            vx=self.cross_over_monte(old_pop,max_old)\n",
    "            v=gene(vx[0])\n",
    "            #checking if we get the target\n",
    "            if v.fit==tlen:\n",
    "                print(\"FOUND\")\n",
    "                print(v.dna,\"   ---   \",v.fit)   \n",
    "                return 1\n",
    "            \n",
    "            if v.fit>=self.min_fit:\n",
    "                self.arr+=[v]\n",
    "                i+=1\n",
    "                print(v.dna,\"   ---   \",v.fit)\n",
    "            \n",
    "            v=gene(vx[1])\n",
    "            if v.fit==tlen:\n",
    "                print(\"FOUND\")\n",
    "                print(v.dna,\"   ---   \",v.fit)   \n",
    "                return 1\n",
    "            if v.fit>=self.min_fit:\n",
    "                self.arr+=[v]\n",
    "                i+=1\n",
    "                print(v.dna,\"   ---   \",v.fit)       \n",
    "        return 0\n",
    "    #mote carlo method of crossover rejection samaling"
   ]
  },
  {
   "cell_type": "code",
   "execution_count": null,
   "metadata": {},
   "outputs": [],
   "source": []
  },
  {
   "cell_type": "code",
   "execution_count": null,
   "metadata": {},
   "outputs": [],
   "source": []
  },
  {
   "cell_type": "code",
   "execution_count": null,
   "metadata": {},
   "outputs": [],
   "source": []
  },
  {
   "cell_type": "code",
   "execution_count": null,
   "metadata": {},
   "outputs": [],
   "source": []
  },
  {
   "cell_type": "code",
   "execution_count": null,
   "metadata": {
    "ExecuteTime": {
     "end_time": "2019-10-31T17:53:50.153124Z",
     "start_time": "2019-10-31T17:53:50.135172Z"
    }
   },
   "outputs": [],
   "source": [
    "del(pop)\n",
    "import gc\n",
    "gc.collect()"
   ]
  },
  {
   "cell_type": "code",
   "execution_count": null,
   "metadata": {
    "ExecuteTime": {
     "end_time": "2019-10-31T17:52:34.604930Z",
     "start_time": "2019-10-31T17:52:34.600947Z"
    }
   },
   "outputs": [],
   "source": []
  },
  {
   "cell_type": "code",
   "execution_count": null,
   "metadata": {
    "ExecuteTime": {
     "end_time": "2019-10-31T17:54:02.985668Z",
     "start_time": "2019-10-31T17:53:53.684513Z"
    }
   },
   "outputs": [],
   "source": [
    "#parr=Population()\n",
    "#parr.create_population(300)\n",
    "\n",
    "pop=[Population() for i in range(150)]\n",
    "pop[0].create_population(10000)"
   ]
  },
  {
   "cell_type": "code",
   "execution_count": null,
   "metadata": {
    "ExecuteTime": {
     "end_time": "2019-10-31T17:54:58.224452Z",
     "start_time": "2019-10-31T17:54:06.190267Z"
    },
    "scrolled": true
   },
   "outputs": [],
   "source": [
    "for i in range(1,100):\n",
    "    #pop[i].min_fit=4\n",
    "    print(\"\\n\\n\\n\\nPopulation <---------> \",i,\"\\n\\n\\n\\n\")\n",
    "    flag=pop[i].cross_pop(10000,pop[i-1])\n",
    "    if flag==1:\n",
    "        print(\"\\n\\n\\n\\nPopulation <---------> \",i,\"\\n\\n\\n\\n\")\n",
    "        break"
   ]
  }
 ],
 "metadata": {
  "kernelspec": {
   "display_name": "Python 3",
   "language": "python",
   "name": "python3"
  },
  "language_info": {
   "codemirror_mode": {
    "name": "ipython",
    "version": 3
   },
   "file_extension": ".py",
   "mimetype": "text/x-python",
   "name": "python",
   "nbconvert_exporter": "python",
   "pygments_lexer": "ipython3",
   "version": "3.7.3"
  },
  "toc": {
   "base_numbering": 1,
   "nav_menu": {},
   "number_sections": true,
   "sideBar": true,
   "skip_h1_title": false,
   "title_cell": "Table of Contents",
   "title_sidebar": "Contents",
   "toc_cell": false,
   "toc_position": {
    "height": "calc(100% - 180px)",
    "left": "10px",
    "top": "150px",
    "width": "341.458px"
   },
   "toc_section_display": true,
   "toc_window_display": false
  },
  "varInspector": {
   "cols": {
    "lenName": 16,
    "lenType": 16,
    "lenVar": 40
   },
   "kernels_config": {
    "python": {
     "delete_cmd_postfix": "",
     "delete_cmd_prefix": "del ",
     "library": "var_list.py",
     "varRefreshCmd": "print(var_dic_list())"
    },
    "r": {
     "delete_cmd_postfix": ") ",
     "delete_cmd_prefix": "rm(",
     "library": "var_list.r",
     "varRefreshCmd": "cat(var_dic_list()) "
    }
   },
   "types_to_exclude": [
    "module",
    "function",
    "builtin_function_or_method",
    "instance",
    "_Feature"
   ],
   "window_display": false
  }
 },
 "nbformat": 4,
 "nbformat_minor": 2
}
