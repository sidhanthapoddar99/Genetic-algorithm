{
 "cells": [
  {
   "cell_type": "code",
   "execution_count": 1,
   "metadata": {
    "ExecuteTime": {
     "end_time": "2019-10-31T23:40:24.653632Z",
     "start_time": "2019-10-31T23:40:24.650642Z"
    }
   },
   "outputs": [],
   "source": [
    "import socket, pickle"
   ]
  },
  {
   "cell_type": "code",
   "execution_count": 2,
   "metadata": {
    "ExecuteTime": {
     "end_time": "2019-10-31T23:40:25.296473Z",
     "start_time": "2019-10-31T23:40:25.293476Z"
    }
   },
   "outputs": [],
   "source": [
    "HOST = '127.0.0.1'\n",
    "PORT1 = 5008\n",
    "s1 = socket.socket(socket.AF_INET, socket.SOCK_STREAM)\n",
    "s1.bind((HOST, PORT1))\n",
    "s1.listen(50)"
   ]
  },
  {
   "cell_type": "code",
   "execution_count": 3,
   "metadata": {
    "ExecuteTime": {
     "end_time": "2019-10-31T23:40:25.985626Z",
     "start_time": "2019-10-31T23:40:25.980639Z"
    }
   },
   "outputs": [],
   "source": [
    "HOST = '127.0.0.1'\n",
    "PORT2 = 5007\n",
    "s2 = socket.socket(socket.AF_INET, socket.SOCK_STREAM)\n",
    "s2.bind((HOST, PORT2))\n",
    "s2.listen(50)"
   ]
  },
  {
   "cell_type": "code",
   "execution_count": 4,
   "metadata": {
    "ExecuteTime": {
     "end_time": "2019-10-31T23:40:28.250501Z",
     "start_time": "2019-10-31T23:40:28.243520Z"
    }
   },
   "outputs": [],
   "source": [
    "def sends(s,msg=\"this is a msg\"):\n",
    "    c, addr = s.accept()      \n",
    "    print ('Got connection from', addr)\n",
    "    c.send(msg.encode('utf-8')) \n",
    "    c.close()\n",
    "    s.listen(50)\n",
    "def recs(s):\n",
    "    c, addr = s.accept()\n",
    "    print ('Connected by', addr)\n",
    "    msg = c.recv(4096).decode(\"utf-8\")\n",
    "    print(msg)\n",
    "    c.close()\n",
    "    s.listen(50)\n",
    "    return(msg)\n",
    "    "
   ]
  },
  {
   "cell_type": "code",
   "execution_count": 5,
   "metadata": {
    "ExecuteTime": {
     "end_time": "2019-10-31T23:42:01.720591Z",
     "start_time": "2019-10-31T23:40:30.569208Z"
    }
   },
   "outputs": [
    {
     "name": "stdout",
     "output_type": "stream",
     "text": [
      "Connected by ('127.0.0.1', 55652)\n",
      "message from side11\n",
      "Connected by ('127.0.0.1', 62048)\n",
      "message from side22\n",
      "Got connection from ('127.0.0.1', 60698)\n",
      "Got connection from ('127.0.0.1', 62138)\n"
     ]
    }
   ],
   "source": [
    "msgc1=recs(s1)\n",
    "msgc2=recs(s2)\n",
    "sends(s1,msgc2)\n",
    "sends(s2,msgc1)"
   ]
  },
  {
   "cell_type": "code",
   "execution_count": null,
   "metadata": {
    "ExecuteTime": {
     "end_time": "2019-10-31T23:03:28.484185Z",
     "start_time": "2019-10-31T23:03:25.901049Z"
    }
   },
   "outputs": [],
   "source": []
  },
  {
   "cell_type": "code",
   "execution_count": null,
   "metadata": {},
   "outputs": [],
   "source": []
  },
  {
   "cell_type": "code",
   "execution_count": null,
   "metadata": {
    "ExecuteTime": {
     "end_time": "2019-10-31T22:17:34.196129Z",
     "start_time": "2019-10-31T22:17:34.192141Z"
    }
   },
   "outputs": [],
   "source": [
    "s1.close()\n",
    "s2.close()"
   ]
  },
  {
   "cell_type": "code",
   "execution_count": null,
   "metadata": {},
   "outputs": [],
   "source": []
  }
 ],
 "metadata": {
  "kernelspec": {
   "display_name": "Python 3",
   "language": "python",
   "name": "python3"
  },
  "language_info": {
   "codemirror_mode": {
    "name": "ipython",
    "version": 3
   },
   "file_extension": ".py",
   "mimetype": "text/x-python",
   "name": "python",
   "nbconvert_exporter": "python",
   "pygments_lexer": "ipython3",
   "version": "3.7.3"
  },
  "toc": {
   "base_numbering": 1,
   "nav_menu": {},
   "number_sections": true,
   "sideBar": true,
   "skip_h1_title": false,
   "title_cell": "Table of Contents",
   "title_sidebar": "Contents",
   "toc_cell": false,
   "toc_position": {},
   "toc_section_display": true,
   "toc_window_display": false
  },
  "varInspector": {
   "cols": {
    "lenName": 16,
    "lenType": 16,
    "lenVar": 40
   },
   "kernels_config": {
    "python": {
     "delete_cmd_postfix": "",
     "delete_cmd_prefix": "del ",
     "library": "var_list.py",
     "varRefreshCmd": "print(var_dic_list())"
    },
    "r": {
     "delete_cmd_postfix": ") ",
     "delete_cmd_prefix": "rm(",
     "library": "var_list.r",
     "varRefreshCmd": "cat(var_dic_list()) "
    }
   },
   "types_to_exclude": [
    "module",
    "function",
    "builtin_function_or_method",
    "instance",
    "_Feature"
   ],
   "window_display": false
  }
 },
 "nbformat": 4,
 "nbformat_minor": 2
}
