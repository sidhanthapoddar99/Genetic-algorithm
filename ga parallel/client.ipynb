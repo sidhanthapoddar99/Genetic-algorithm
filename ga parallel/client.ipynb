{
 "cells": [
  {
   "cell_type": "code",
   "execution_count": 27,
   "metadata": {
    "ExecuteTime": {
     "end_time": "2019-10-31T23:36:26.447190Z",
     "start_time": "2019-10-31T23:36:26.443197Z"
    }
   },
   "outputs": [],
   "source": [
    "import socket, pickle"
   ]
  },
  {
   "cell_type": "code",
   "execution_count": 28,
   "metadata": {
    "ExecuteTime": {
     "end_time": "2019-10-31T23:36:27.091903Z",
     "start_time": "2019-10-31T23:36:27.086918Z"
    }
   },
   "outputs": [],
   "source": [
    "def sendc(HOST,PORT,msg=\"this is a msg\" ):\n",
    "    s = socket.socket(socket.AF_INET, socket.SOCK_STREAM)\n",
    "    s.connect((HOST, PORT))  \n",
    "    s.send(msg.encode('utf-8'))\n",
    "def recc(HOST,PORT):\n",
    "    s = socket.socket(socket.AF_INET, socket.SOCK_STREAM)\n",
    "    s.connect((HOST, PORT))\n",
    "    msg = s.recv(4096).decode(\"utf-8\")\n",
    "    print(msg)\n",
    "    return(msg)"
   ]
  },
  {
   "cell_type": "code",
   "execution_count": null,
   "metadata": {
    "ExecuteTime": {
     "end_time": "2019-10-31T22:21:56.830490Z",
     "start_time": "2019-10-31T22:20:56.640640Z"
    }
   },
   "outputs": [],
   "source": [
    "#recc(s1)"
   ]
  },
  {
   "cell_type": "code",
   "execution_count": 30,
   "metadata": {
    "ExecuteTime": {
     "end_time": "2019-10-31T23:40:55.899343Z",
     "start_time": "2019-10-31T23:40:55.895353Z"
    }
   },
   "outputs": [],
   "source": [
    "sendc(\"127.0.0.1\",5008,\"message from side11\")\n",
    "#sendc(\"127.0.0.1\",5007,\"message from side22\")\n",
    "#msgc2=recc(\"127.0.0.1\",5007)"
   ]
  },
  {
   "cell_type": "code",
   "execution_count": 31,
   "metadata": {
    "ExecuteTime": {
     "end_time": "2019-10-31T23:42:00.823910Z",
     "start_time": "2019-10-31T23:41:46.512220Z"
    }
   },
   "outputs": [
    {
     "name": "stdout",
     "output_type": "stream",
     "text": [
      "message from side22\n"
     ]
    }
   ],
   "source": [
    "msgc1=recc(\"127.0.0.1\",5008)"
   ]
  },
  {
   "cell_type": "code",
   "execution_count": null,
   "metadata": {
    "ExecuteTime": {
     "end_time": "2019-10-31T22:32:39.367656Z",
     "start_time": "2019-10-31T22:32:39.363628Z"
    }
   },
   "outputs": [],
   "source": [
    "s1.close()\n",
    "s2.close()"
   ]
  },
  {
   "cell_type": "code",
   "execution_count": 7,
   "metadata": {
    "ExecuteTime": {
     "end_time": "2019-10-31T22:37:27.288483Z",
     "start_time": "2019-10-31T22:37:27.281501Z"
    }
   },
   "outputs": [
    {
     "data": {
      "text/plain": [
       "''"
      ]
     },
     "execution_count": 7,
     "metadata": {},
     "output_type": "execute_result"
    }
   ],
   "source": [
    "msgc2"
   ]
  }
 ],
 "metadata": {
  "kernelspec": {
   "display_name": "Python 3",
   "language": "python",
   "name": "python3"
  },
  "language_info": {
   "codemirror_mode": {
    "name": "ipython",
    "version": 3
   },
   "file_extension": ".py",
   "mimetype": "text/x-python",
   "name": "python",
   "nbconvert_exporter": "python",
   "pygments_lexer": "ipython3",
   "version": "3.7.3"
  },
  "toc": {
   "base_numbering": 1,
   "nav_menu": {},
   "number_sections": true,
   "sideBar": true,
   "skip_h1_title": false,
   "title_cell": "Table of Contents",
   "title_sidebar": "Contents",
   "toc_cell": false,
   "toc_position": {},
   "toc_section_display": true,
   "toc_window_display": false
  },
  "varInspector": {
   "cols": {
    "lenName": 16,
    "lenType": 16,
    "lenVar": 40
   },
   "kernels_config": {
    "python": {
     "delete_cmd_postfix": "",
     "delete_cmd_prefix": "del ",
     "library": "var_list.py",
     "varRefreshCmd": "print(var_dic_list())"
    },
    "r": {
     "delete_cmd_postfix": ") ",
     "delete_cmd_prefix": "rm(",
     "library": "var_list.r",
     "varRefreshCmd": "cat(var_dic_list()) "
    }
   },
   "types_to_exclude": [
    "module",
    "function",
    "builtin_function_or_method",
    "instance",
    "_Feature"
   ],
   "window_display": false
  }
 },
 "nbformat": 4,
 "nbformat_minor": 2
}
